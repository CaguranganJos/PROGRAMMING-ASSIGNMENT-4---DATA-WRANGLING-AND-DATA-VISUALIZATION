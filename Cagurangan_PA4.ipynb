{
 "cells": [
  {
   "cell_type": "markdown",
   "id": "1da9eb2f-d0af-46b4-8ae2-110204374485",
   "metadata": {},
   "source": [
    "# EXPERIMENT 4 DATA WRANGLING AND DATA VISUALIZATION"
   ]
  },
  {
   "cell_type": "markdown",
   "id": "27658755-7d47-439e-9525-07bbf4d6f92d",
   "metadata": {},
   "source": [
    "Name: Cagurangan, Jos Kendrick L.\n",
    "Section: 2ECE-B"
   ]
  },
  {
   "cell_type": "markdown",
   "id": "8be599a2-32f6-4bcd-b46c-323d38d3cc2a",
   "metadata": {},
   "source": [
    "### ECE BAORD EXAM PROBLEM"
   ]
  },
  {
   "cell_type": "markdown",
   "id": "907553d4-615f-42f2-a8bb-68a0c5881879",
   "metadata": {},
   "source": [
    "##### Number 1"
   ]
  },
  {
   "cell_type": "markdown",
   "id": "eced13ab-8fe6-42e2-a35f-c96d5a26935e",
   "metadata": {},
   "source": [
    "###### Letter (a) Filename: Instru = [“Name”, “GEAS”, “Electronics >70”]; where track is constant as Instrumentation and hometown Luzon "
   ]
  },
  {
   "cell_type": "code",
   "execution_count": 3,
   "id": "47d050ae-d9f3-4e76-8b3e-a7a1fb5b0a08",
   "metadata": {},
   "outputs": [
    {
     "data": {
      "text/html": [
       "<div>\n",
       "<style scoped>\n",
       "    .dataframe tbody tr th:only-of-type {\n",
       "        vertical-align: middle;\n",
       "    }\n",
       "\n",
       "    .dataframe tbody tr th {\n",
       "        vertical-align: top;\n",
       "    }\n",
       "\n",
       "    .dataframe thead th {\n",
       "        text-align: right;\n",
       "    }\n",
       "</style>\n",
       "<table border=\"1\" class=\"dataframe\">\n",
       "  <thead>\n",
       "    <tr style=\"text-align: right;\">\n",
       "      <th></th>\n",
       "      <th>Name</th>\n",
       "      <th>GEAS</th>\n",
       "      <th>Electronics</th>\n",
       "    </tr>\n",
       "  </thead>\n",
       "  <tbody>\n",
       "    <tr>\n",
       "      <th>0</th>\n",
       "      <td>S1</td>\n",
       "      <td>75</td>\n",
       "      <td>89</td>\n",
       "    </tr>\n",
       "    <tr>\n",
       "      <th>1</th>\n",
       "      <td>S8</td>\n",
       "      <td>64</td>\n",
       "      <td>81</td>\n",
       "    </tr>\n",
       "    <tr>\n",
       "      <th>2</th>\n",
       "      <td>S30</td>\n",
       "      <td>57</td>\n",
       "      <td>81</td>\n",
       "    </tr>\n",
       "  </tbody>\n",
       "</table>\n",
       "</div>"
      ],
      "text/plain": [
       "  Name  GEAS  Electronics\n",
       "0   S1    75           89\n",
       "1   S8    64           81\n",
       "2  S30    57           81"
      ]
     },
     "execution_count": 3,
     "metadata": {},
     "output_type": "execute_result"
    }
   ],
   "source": [
    "import pandas as pd #Import the library pandas as pd\n",
    "\n",
    "raw_a = pd.read_excel(\"board2.xlsx\") #read the file named \"board2.xlsx\" using pd.read_excel\n",
    "Instru = raw_a.loc [(raw_a[\"Track\"]=='Instrumentation') #Use indexing. 1st condition: locate the track column that contains 'Instrumentation'\n",
    "                 & (raw_a[\"Hometown\"]=='Luzon') # 2bd condition: locate Hometown column containing 'Luzon'\n",
    "                 & (raw_a[\"Electronics\"]>70), # 3rd condition: Locate in column 'Electronics' values that are more than 70\n",
    "                 ['Name', 'GEAS', 'Electronics']].reset_index(drop = True) #Print only column Name, GEAS, Electronics, and reset the values of index\n",
    "Instru"
   ]
  },
  {
   "cell_type": "markdown",
   "id": "fe436c4d-d9d2-4757-9e4d-42d624dbc0ab",
   "metadata": {},
   "source": [
    "###### Letter (b) Filename: Mindy = [ “Name”, “Track”, “Electronics”, “Average >=55”]; where hometown is constant as Mindanao and gender Female "
   ]
  },
  {
   "cell_type": "code",
   "execution_count": 4,
   "id": "4664c2c3-e3f4-4644-a91b-e5124af9ce08",
   "metadata": {},
   "outputs": [
    {
     "data": {
      "text/html": [
       "<div>\n",
       "<style scoped>\n",
       "    .dataframe tbody tr th:only-of-type {\n",
       "        vertical-align: middle;\n",
       "    }\n",
       "\n",
       "    .dataframe tbody tr th {\n",
       "        vertical-align: top;\n",
       "    }\n",
       "\n",
       "    .dataframe thead th {\n",
       "        text-align: right;\n",
       "    }\n",
       "</style>\n",
       "<table border=\"1\" class=\"dataframe\">\n",
       "  <thead>\n",
       "    <tr style=\"text-align: right;\">\n",
       "      <th></th>\n",
       "      <th>Name</th>\n",
       "      <th>Track</th>\n",
       "      <th>Electronics</th>\n",
       "      <th>Average</th>\n",
       "    </tr>\n",
       "  </thead>\n",
       "  <tbody>\n",
       "    <tr>\n",
       "      <th>0</th>\n",
       "      <td>S2</td>\n",
       "      <td>Communication</td>\n",
       "      <td>75</td>\n",
       "      <td>67.25</td>\n",
       "    </tr>\n",
       "    <tr>\n",
       "      <th>1</th>\n",
       "      <td>S3</td>\n",
       "      <td>Instrumentation</td>\n",
       "      <td>74</td>\n",
       "      <td>72.75</td>\n",
       "    </tr>\n",
       "    <tr>\n",
       "      <th>2</th>\n",
       "      <td>S15</td>\n",
       "      <td>Microelectronics</td>\n",
       "      <td>41</td>\n",
       "      <td>59.00</td>\n",
       "    </tr>\n",
       "    <tr>\n",
       "      <th>3</th>\n",
       "      <td>S17</td>\n",
       "      <td>Microelectronics</td>\n",
       "      <td>79</td>\n",
       "      <td>70.50</td>\n",
       "    </tr>\n",
       "    <tr>\n",
       "      <th>4</th>\n",
       "      <td>S20</td>\n",
       "      <td>Communication</td>\n",
       "      <td>60</td>\n",
       "      <td>66.50</td>\n",
       "    </tr>\n",
       "  </tbody>\n",
       "</table>\n",
       "</div>"
      ],
      "text/plain": [
       "  Name             Track  Electronics  Average\n",
       "0   S2     Communication           75    67.25\n",
       "1   S3   Instrumentation           74    72.75\n",
       "2  S15  Microelectronics           41    59.00\n",
       "3  S17  Microelectronics           79    70.50\n",
       "4  S20     Communication           60    66.50"
      ]
     },
     "execution_count": 4,
     "metadata": {},
     "output_type": "execute_result"
    }
   ],
   "source": [
    "import pandas as pd # Import the library pandas as pd\n",
    "\n",
    "raw_b = pd.read_excel(\"board2.xlsx\") #read the excel file named \"board2.xlsx\"\n",
    "raw_b['Average'] = raw_b[['Math','Electronics','GEAS','Communication']].mean(axis=1) #add another column named Average, containing the mean of the 4 subjects\n",
    "\n",
    "mindy = raw_b.loc[(raw_b[\"Hometown\"]=='Mindanao') #use indexing. 1st condition: Locate 'Mindanao\" in column named Hometown\n",
    "                & (raw_b[\"Gender\"]=='Female') #2nd condition: Locate 'Female' in column named Gender\n",
    "                & (raw_b[\"Average\"]>=55), #3rd condition: Locate greater than or equal to 55 values in the Average column\n",
    "                ['Name','Track', 'Electronics','Average']].reset_index(drop = True) #Print only column Name, Track, Electronics, Average, and reset the values of index\n",
    "mindy"
   ]
  },
  {
   "cell_type": "markdown",
   "id": "7e1bae0a-6d9b-4e57-bc84-b5f6e9556133",
   "metadata": {},
   "source": [
    "##### Number 2"
   ]
  },
  {
   "cell_type": "markdown",
   "id": "6ea486cf-5a10-4371-929c-b40aa39e22a7",
   "metadata": {},
   "source": [
    "Instructions: Create a visualization that shows how the different features contributes to average grade. Does \n",
    "chosen track in college, gender, or hometown contributes to a higher average score? "
   ]
  },
  {
   "cell_type": "code",
   "execution_count": 5,
   "id": "3ff85e4f-93e4-4d64-b761-632329c07644",
   "metadata": {},
   "outputs": [],
   "source": [
    "import pandas as pd # Import library pandas as pd\n",
    "\n",
    "raw2 = pd.read_excel(\"board2.xlsx\") #read the excel file named \"board2.xlsx\n",
    "raw2['Average'] = raw2[['Math','Electronics','GEAS','Communication']].mean(axis=1) # add a column named Average, containing the mean of the 4 subjects\n",
    "\n",
    "\n",
    "Avg_Track = raw2.groupby(\"Track\")[\"Average\"].mean() # Group the tracks, and get the Average grades of each track\n",
    "Avg_Gender = raw2.groupby(\"Gender\")[\"Average\"].mean() # Group the Genders, and get the Average grades of each Gender\n",
    "Avg_Hometown = raw2.groupby(\"Hometown\")[\"Average\"].mean() # Group the Hometowns, and get the Average grades of each Hometown\n",
    "\n",
    "Avg_Track_df = raw2.groupby(\"Track\")[\"Average\"].mean().reset_index() #Make a data frame for the average grade per track\n",
    "Avg_Gender_df = raw2.groupby(\"Gender\")[\"Average\"].mean().reset_index() #Make a data frame for the average grade per Gender\n",
    "Avg_Hometown_df = raw2.groupby(\"Hometown\")[\"Average\"].mean().reset_index() #Make a datd frame for the average grade per Hometown"
   ]
  },
  {
   "cell_type": "code",
   "execution_count": 6,
   "id": "e937a6a2-3fd5-49f6-ba7d-ab9f1d34f23f",
   "metadata": {},
   "outputs": [
    {
     "data": {
      "text/html": [
       "<div>\n",
       "<style scoped>\n",
       "    .dataframe tbody tr th:only-of-type {\n",
       "        vertical-align: middle;\n",
       "    }\n",
       "\n",
       "    .dataframe tbody tr th {\n",
       "        vertical-align: top;\n",
       "    }\n",
       "\n",
       "    .dataframe thead th {\n",
       "        text-align: right;\n",
       "    }\n",
       "</style>\n",
       "<table border=\"1\" class=\"dataframe\">\n",
       "  <thead>\n",
       "    <tr style=\"text-align: right;\">\n",
       "      <th></th>\n",
       "      <th>Track</th>\n",
       "      <th>Average</th>\n",
       "    </tr>\n",
       "  </thead>\n",
       "  <tbody>\n",
       "    <tr>\n",
       "      <th>0</th>\n",
       "      <td>Communication</td>\n",
       "      <td>67.975</td>\n",
       "    </tr>\n",
       "    <tr>\n",
       "      <th>1</th>\n",
       "      <td>Instrumentation</td>\n",
       "      <td>65.225</td>\n",
       "    </tr>\n",
       "    <tr>\n",
       "      <th>2</th>\n",
       "      <td>Microelectronics</td>\n",
       "      <td>67.500</td>\n",
       "    </tr>\n",
       "  </tbody>\n",
       "</table>\n",
       "</div>"
      ],
      "text/plain": [
       "              Track  Average\n",
       "0     Communication   67.975\n",
       "1   Instrumentation   65.225\n",
       "2  Microelectronics   67.500"
      ]
     },
     "execution_count": 6,
     "metadata": {},
     "output_type": "execute_result"
    }
   ],
   "source": [
    "Avg_Track_df"
   ]
  },
  {
   "cell_type": "code",
   "execution_count": 18,
   "id": "2332b164-512e-4641-a879-50a3fb00ab05",
   "metadata": {
    "scrolled": true
   },
   "outputs": [
    {
     "data": {
      "image/png": "[encoded data removed]",
      "text/plain": [
       "<Figure size 640x480 with 1 Axes>"
      ]
     },
     "metadata": {},
     "output_type": "display_data"
    }
   ],
   "source": [
    "import matplotlib.pyplot as plt\n",
    "\n",
    "Avg_Track.plot(kind=\"bar\", color=\"Yellow\", title=\"Average Grade by track\", ylabel=\"Average Grade\", xlabel=\"Track\")\n",
    "plt.show()"
   ]
  },
  {
   "cell_type": "code",
   "execution_count": 19,
   "id": "1a34b90d-728a-448b-8cc3-42005d7e8974",
   "metadata": {},
   "outputs": [
    {
     "data": {
      "text/html": [
       "<div>\n",
       "<style scoped>\n",
       "    .dataframe tbody tr th:only-of-type {\n",
       "        vertical-align: middle;\n",
       "    }\n",
       "\n",
       "    .dataframe tbody tr th {\n",
       "        vertical-align: top;\n",
       "    }\n",
       "\n",
       "    .dataframe thead th {\n",
       "        text-align: right;\n",
       "    }\n",
       "</style>\n",
       "<table border=\"1\" class=\"dataframe\">\n",
       "  <thead>\n",
       "    <tr style=\"text-align: right;\">\n",
       "      <th></th>\n",
       "      <th>Gender</th>\n",
       "      <th>Average</th>\n",
       "    </tr>\n",
       "  </thead>\n",
       "  <tbody>\n",
       "    <tr>\n",
       "      <th>0</th>\n",
       "      <td>Female</td>\n",
       "      <td>66.616667</td>\n",
       "    </tr>\n",
       "    <tr>\n",
       "      <th>1</th>\n",
       "      <td>Male</td>\n",
       "      <td>67.183333</td>\n",
       "    </tr>\n",
       "  </tbody>\n",
       "</table>\n",
       "</div>"
      ],
      "text/plain": [
       "   Gender    Average\n",
       "0  Female  66.616667\n",
       "1    Male  67.183333"
      ]
     },
     "execution_count": 19,
     "metadata": {},
     "output_type": "execute_result"
    }
   ],
   "source": [
    "Avg_Gender_df"
   ]
  },
  {
   "cell_type": "code",
   "execution_count": 20,
   "id": "57722feb-0fba-41b4-8159-f1ded93d5062",
   "metadata": {},
   "outputs": [
    {
     "data": {
      "image/png": "[encoded data removed]",
      "text/plain": [
       "<Figure size 640x480 with 1 Axes>"
      ]
     },
     "metadata": {},
     "output_type": "display_data"
    }
   ],
   "source": [
    "import matplotlib.pyplot as ply\n",
    "\n",
    "Avg_Gender.plot(kind=\"bar\", color=\"pink\", title = \"Average Grade by Gender\", ylabel=\"Average Grade\", xlabel=\"Gender\")\n",
    "plt.show()"
   ]
  },
  {
   "cell_type": "code",
   "execution_count": 21,
   "id": "b426f0d0-67ae-4564-a91d-35ead864ea03",
   "metadata": {},
   "outputs": [
    {
     "data": {
      "text/html": [
       "<div>\n",
       "<style scoped>\n",
       "    .dataframe tbody tr th:only-of-type {\n",
       "        vertical-align: middle;\n",
       "    }\n",
       "\n",
       "    .dataframe tbody tr th {\n",
       "        vertical-align: top;\n",
       "    }\n",
       "\n",
       "    .dataframe thead th {\n",
       "        text-align: right;\n",
       "    }\n",
       "</style>\n",
       "<table border=\"1\" class=\"dataframe\">\n",
       "  <thead>\n",
       "    <tr style=\"text-align: right;\">\n",
       "      <th></th>\n",
       "      <th>Hometown</th>\n",
       "      <th>Average</th>\n",
       "    </tr>\n",
       "  </thead>\n",
       "  <tbody>\n",
       "    <tr>\n",
       "      <th>0</th>\n",
       "      <td>Luzon</td>\n",
       "      <td>68.083333</td>\n",
       "    </tr>\n",
       "    <tr>\n",
       "      <th>1</th>\n",
       "      <td>Mindanao</td>\n",
       "      <td>66.678571</td>\n",
       "    </tr>\n",
       "    <tr>\n",
       "      <th>2</th>\n",
       "      <td>Visayas</td>\n",
       "      <td>65.750000</td>\n",
       "    </tr>\n",
       "  </tbody>\n",
       "</table>\n",
       "</div>"
      ],
      "text/plain": [
       "   Hometown    Average\n",
       "0     Luzon  68.083333\n",
       "1  Mindanao  66.678571\n",
       "2   Visayas  65.750000"
      ]
     },
     "execution_count": 21,
     "metadata": {},
     "output_type": "execute_result"
    }
   ],
   "source": [
    "Avg_Hometown_df"
   ]
  },
  {
   "cell_type": "code",
   "execution_count": 23,
   "id": "de6d522c-b9f6-46c4-bf7e-aea17b186bbe",
   "metadata": {},
   "outputs": [
    {
     "data": {
      "image/png": "[encoded data removed]",
      "text/plain": [
       "<Figure size 640x480 with 1 Axes>"
      ]
     },
     "metadata": {},
     "output_type": "display_data"
    }
   ],
   "source": [
    "import matplotlib.pyplot as ply\n",
    "\n",
    "Avg_Hometown.plot(kind=\"bar\", color=\"blue\", title=\"Average Grade by Hometown\", ylabel=\"Average Grade\", xlabel=\"Hometown\")\n",
    "plt.show()"
   ]
  }
 ],
 "metadata": {
  "kernelspec": {
   "display_name": "Python [conda env:base] *",
   "language": "python",
   "name": "conda-base-py"
  },
  "language_info": {
   "codemirror_mode": {
    "name": "ipython",
    "version": 3
   },
   "file_extension": ".py",
   "mimetype": "text/x-python",
   "name": "python",
   "nbconvert_exporter": "python",
   "pygments_lexer": "ipython3",
   "version": "3.13.5"
  }
 },
 "nbformat": 4,
 "nbformat_minor": 5
}
